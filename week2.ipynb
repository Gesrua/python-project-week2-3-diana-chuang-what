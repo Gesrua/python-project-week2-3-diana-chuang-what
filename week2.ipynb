{
 "cells": [
  {
   "cell_type": "markdown",
   "metadata": {},
   "source": [
    "# SI100B Python Project (Fall, 2021): \n",
    "# Single Cell RNA Sequencing Data Processing - Week 2\n",
    "*******\n",
    "\n",
    "Author: `Qi Qin`\n",
    "\n",
    "Docstring: `Qi Qin`, `Cao Yuhan`\n",
    "\n",
    "Email: `qinqi@shanghaitech.edu.cn`, `caoyh1@shanghaitech.edu.cn`| Update: `2021-12` "
   ]
  },
  {
   "cell_type": "markdown",
   "metadata": {},
   "source": [
    "### Introduction\n",
    "\n",
    "Single-cell RNA sequencing (scRNA-seq) is an emerging technique to assess individual cell\n",
    "function and cell-to-cell variability at the single-cell level. This capability has attracted more researchers to\n",
    "apply scRNA-seq analysis to address research questions.\n",
    "\n",
    "This notebook works as a workspace where you can verify your implementation. Only your work in `scrna/io.py` and `scrna/preprocess.py` will be graded.\n",
    "<br/><br/>\n",
    "\n",
    "In this week, you are expected to:\n",
    " - **Section1**: Know how to use `pandas` and `scipy` to parse the input dataset and form a dataframe (15 points).\n",
    " - **Section2**: Know how to finish the basic data processing task in scRNA-seq (15 points).\n",
    " - **Have fun!**\n",
    " \n",
    "**NOTE**: Please do not try to cheat local judge by modifying its codes or directly assigning the answer.\n",
    "If you do so, you still cannot pass the online judge.\n",
    "\n",
    "**Run the cell below to import necessary packages and functions.**"
   ]
  },
  {
   "cell_type": "code",
   "execution_count": 1,
   "metadata": {},
   "outputs": [],
   "source": [
    "# IMPORTANT: run this cell before runnng any cell to activate auto re-import\n",
    "%load_ext autoreload\n",
    "%autoreload 2\n",
    "\n",
    "import matplotlib.pyplot as plt\n",
    "import pandas as pd\n",
    "import numpy as np\n",
    "import scipy\n",
    "\n",
    "# plt.style.use(\"fivethirtyeight\")\n",
    "%config InlineBackend.figure_format = 'retina'"
   ]
  },
  {
   "cell_type": "markdown",
   "metadata": {},
   "source": [
    "### The PBMC3K Dataset\n",
    "\n",
    "For this tutorial, we analyze a dataset of Peripheral Blood Mononuclear Cells *(NOT Monocytes)* (PBMC) extracted from a healthy donor, freely available from [10X Genomics](https://support.10xgenomics.com/single-cell-gene-expression/datasets/1.1.0/pbmc3k). The dataset contains 2,700 single cells sequenced using Illumina NextSeq 500. The raw sequences have been processed by the cellranger pipeline from 10X to extract a unique molecular identifier (UMI) count matrix.\n",
    "\n",
    "In this matrix, the values (counts) represent the number for each feature (i.e. gene; row) that are detected in each cell (column). Such matrices can be quite large, where here there are 2,700 columns with 32,738 lines, with mostly zero values, i.e. an extremely sparse matrix. To optimize the storage of such a table and the information about the genes and cells, cellranger creates 3 files:\n",
    "\n",
    "- `genes.tsv`: a tabular file with information about the 32,738 genes in 2 columns (Ensembl gene id and the gene symbol)\n",
    "- `barcodes.tsv`: a tabular file with the barcode for each of the 2,700 cells\n",
    "- `matrix.mtx`: a condesed version of the count matrix.\n",
    "\n",
    "The count matrix is therefore represented by its non-zero values. Each non-zero value is indicated by its line number (1st column), its column number (2nd column) and its value (3rd column). The first row gives indication about the number of lines, column and non-zero values. More information on the Matrix Market Exchange (mtx) format can be found [here](https://math.nist.gov/MatrixMarket/formats.html)."
   ]
  },
  {
   "cell_type": "markdown",
   "metadata": {},
   "source": [
    "## Section 1: Parse dataset with scipy and pandas\n",
    "****"
   ]
  },
  {
   "cell_type": "markdown",
   "metadata": {},
   "source": [
    "The representation of the matrix with 3 files is convenient to share the data but not to process them. Single-cell analysis packages have attempted to solve the problem of storage and analysis by inventing their own standard, which has led to the proliferation of many different “standards” in the scRNA-seq package ecosystem. However, in this tutorial, we do not use any existing data structure, but simply store the data in a dataframe with pandas.\n",
    "\n",
    "**Complete code at `scrna/io.py/generate_df`**, where you may see more details."
   ]
  },
  {
   "cell_type": "code",
   "execution_count": 18,
   "metadata": {},
   "outputs": [
    {
     "data": {
      "text/html": [
       "<div>\n",
       "<style scoped>\n",
       "    .dataframe tbody tr th:only-of-type {\n",
       "        vertical-align: middle;\n",
       "    }\n",
       "\n",
       "    .dataframe tbody tr th {\n",
       "        vertical-align: top;\n",
       "    }\n",
       "\n",
       "    .dataframe thead th {\n",
       "        text-align: right;\n",
       "    }\n",
       "</style>\n",
       "<table border=\"1\" class=\"dataframe\">\n",
       "  <thead>\n",
       "    <tr style=\"text-align: right;\">\n",
       "      <th>genes</th>\n",
       "      <th>MIR1302-10</th>\n",
       "      <th>FAM138A</th>\n",
       "      <th>OR4F5</th>\n",
       "      <th>RP11-34P13.7</th>\n",
       "      <th>RP11-34P13.8</th>\n",
       "      <th>AL627309.1</th>\n",
       "      <th>RP11-34P13.14</th>\n",
       "      <th>RP11-34P13.9</th>\n",
       "      <th>AP006222.2</th>\n",
       "      <th>RP4-669L17.10</th>\n",
       "      <th>...</th>\n",
       "      <th>KIR3DL2</th>\n",
       "      <th>AL590523.1</th>\n",
       "      <th>CT476828.1</th>\n",
       "      <th>PNRC2</th>\n",
       "      <th>SRSF10</th>\n",
       "      <th>AC145205.1</th>\n",
       "      <th>BAGE5</th>\n",
       "      <th>CU459201.1</th>\n",
       "      <th>AC002321.2</th>\n",
       "      <th>AC002321.1</th>\n",
       "    </tr>\n",
       "    <tr>\n",
       "      <th>barcodes</th>\n",
       "      <th></th>\n",
       "      <th></th>\n",
       "      <th></th>\n",
       "      <th></th>\n",
       "      <th></th>\n",
       "      <th></th>\n",
       "      <th></th>\n",
       "      <th></th>\n",
       "      <th></th>\n",
       "      <th></th>\n",
       "      <th></th>\n",
       "      <th></th>\n",
       "      <th></th>\n",
       "      <th></th>\n",
       "      <th></th>\n",
       "      <th></th>\n",
       "      <th></th>\n",
       "      <th></th>\n",
       "      <th></th>\n",
       "      <th></th>\n",
       "      <th></th>\n",
       "    </tr>\n",
       "  </thead>\n",
       "  <tbody>\n",
       "    <tr>\n",
       "      <th>AAACATACAACCAC-1</th>\n",
       "      <td>0</td>\n",
       "      <td>0</td>\n",
       "      <td>0</td>\n",
       "      <td>0</td>\n",
       "      <td>0</td>\n",
       "      <td>0</td>\n",
       "      <td>0</td>\n",
       "      <td>0</td>\n",
       "      <td>0</td>\n",
       "      <td>0</td>\n",
       "      <td>...</td>\n",
       "      <td>0</td>\n",
       "      <td>0</td>\n",
       "      <td>0</td>\n",
       "      <td>0</td>\n",
       "      <td>0</td>\n",
       "      <td>0</td>\n",
       "      <td>0</td>\n",
       "      <td>0</td>\n",
       "      <td>0</td>\n",
       "      <td>0</td>\n",
       "    </tr>\n",
       "    <tr>\n",
       "      <th>AAACATTGAGCTAC-1</th>\n",
       "      <td>0</td>\n",
       "      <td>0</td>\n",
       "      <td>0</td>\n",
       "      <td>0</td>\n",
       "      <td>0</td>\n",
       "      <td>0</td>\n",
       "      <td>0</td>\n",
       "      <td>0</td>\n",
       "      <td>0</td>\n",
       "      <td>0</td>\n",
       "      <td>...</td>\n",
       "      <td>0</td>\n",
       "      <td>0</td>\n",
       "      <td>0</td>\n",
       "      <td>0</td>\n",
       "      <td>0</td>\n",
       "      <td>0</td>\n",
       "      <td>0</td>\n",
       "      <td>0</td>\n",
       "      <td>0</td>\n",
       "      <td>0</td>\n",
       "    </tr>\n",
       "    <tr>\n",
       "      <th>AAACATTGATCAGC-1</th>\n",
       "      <td>0</td>\n",
       "      <td>0</td>\n",
       "      <td>0</td>\n",
       "      <td>0</td>\n",
       "      <td>0</td>\n",
       "      <td>0</td>\n",
       "      <td>0</td>\n",
       "      <td>0</td>\n",
       "      <td>0</td>\n",
       "      <td>0</td>\n",
       "      <td>...</td>\n",
       "      <td>0</td>\n",
       "      <td>0</td>\n",
       "      <td>0</td>\n",
       "      <td>0</td>\n",
       "      <td>0</td>\n",
       "      <td>0</td>\n",
       "      <td>0</td>\n",
       "      <td>0</td>\n",
       "      <td>0</td>\n",
       "      <td>0</td>\n",
       "    </tr>\n",
       "    <tr>\n",
       "      <th>AAACCGTGCTTCCG-1</th>\n",
       "      <td>0</td>\n",
       "      <td>0</td>\n",
       "      <td>0</td>\n",
       "      <td>0</td>\n",
       "      <td>0</td>\n",
       "      <td>0</td>\n",
       "      <td>0</td>\n",
       "      <td>0</td>\n",
       "      <td>0</td>\n",
       "      <td>0</td>\n",
       "      <td>...</td>\n",
       "      <td>0</td>\n",
       "      <td>0</td>\n",
       "      <td>0</td>\n",
       "      <td>0</td>\n",
       "      <td>0</td>\n",
       "      <td>0</td>\n",
       "      <td>0</td>\n",
       "      <td>0</td>\n",
       "      <td>0</td>\n",
       "      <td>0</td>\n",
       "    </tr>\n",
       "    <tr>\n",
       "      <th>AAACCGTGTATGCG-1</th>\n",
       "      <td>0</td>\n",
       "      <td>0</td>\n",
       "      <td>0</td>\n",
       "      <td>0</td>\n",
       "      <td>0</td>\n",
       "      <td>0</td>\n",
       "      <td>0</td>\n",
       "      <td>0</td>\n",
       "      <td>0</td>\n",
       "      <td>0</td>\n",
       "      <td>...</td>\n",
       "      <td>0</td>\n",
       "      <td>0</td>\n",
       "      <td>0</td>\n",
       "      <td>0</td>\n",
       "      <td>0</td>\n",
       "      <td>0</td>\n",
       "      <td>0</td>\n",
       "      <td>0</td>\n",
       "      <td>0</td>\n",
       "      <td>0</td>\n",
       "    </tr>\n",
       "    <tr>\n",
       "      <th>...</th>\n",
       "      <td>...</td>\n",
       "      <td>...</td>\n",
       "      <td>...</td>\n",
       "      <td>...</td>\n",
       "      <td>...</td>\n",
       "      <td>...</td>\n",
       "      <td>...</td>\n",
       "      <td>...</td>\n",
       "      <td>...</td>\n",
       "      <td>...</td>\n",
       "      <td>...</td>\n",
       "      <td>...</td>\n",
       "      <td>...</td>\n",
       "      <td>...</td>\n",
       "      <td>...</td>\n",
       "      <td>...</td>\n",
       "      <td>...</td>\n",
       "      <td>...</td>\n",
       "      <td>...</td>\n",
       "      <td>...</td>\n",
       "      <td>...</td>\n",
       "    </tr>\n",
       "    <tr>\n",
       "      <th>TTTCGAACTCTCAT-1</th>\n",
       "      <td>0</td>\n",
       "      <td>0</td>\n",
       "      <td>0</td>\n",
       "      <td>0</td>\n",
       "      <td>0</td>\n",
       "      <td>0</td>\n",
       "      <td>0</td>\n",
       "      <td>0</td>\n",
       "      <td>0</td>\n",
       "      <td>0</td>\n",
       "      <td>...</td>\n",
       "      <td>0</td>\n",
       "      <td>0</td>\n",
       "      <td>0</td>\n",
       "      <td>0</td>\n",
       "      <td>0</td>\n",
       "      <td>0</td>\n",
       "      <td>0</td>\n",
       "      <td>0</td>\n",
       "      <td>0</td>\n",
       "      <td>0</td>\n",
       "    </tr>\n",
       "    <tr>\n",
       "      <th>TTTCTACTGAGGCA-1</th>\n",
       "      <td>0</td>\n",
       "      <td>0</td>\n",
       "      <td>0</td>\n",
       "      <td>0</td>\n",
       "      <td>0</td>\n",
       "      <td>0</td>\n",
       "      <td>0</td>\n",
       "      <td>0</td>\n",
       "      <td>0</td>\n",
       "      <td>0</td>\n",
       "      <td>...</td>\n",
       "      <td>0</td>\n",
       "      <td>0</td>\n",
       "      <td>0</td>\n",
       "      <td>0</td>\n",
       "      <td>0</td>\n",
       "      <td>0</td>\n",
       "      <td>0</td>\n",
       "      <td>0</td>\n",
       "      <td>0</td>\n",
       "      <td>0</td>\n",
       "    </tr>\n",
       "    <tr>\n",
       "      <th>TTTCTACTTCCTCG-1</th>\n",
       "      <td>0</td>\n",
       "      <td>0</td>\n",
       "      <td>0</td>\n",
       "      <td>0</td>\n",
       "      <td>0</td>\n",
       "      <td>0</td>\n",
       "      <td>0</td>\n",
       "      <td>0</td>\n",
       "      <td>0</td>\n",
       "      <td>0</td>\n",
       "      <td>...</td>\n",
       "      <td>0</td>\n",
       "      <td>0</td>\n",
       "      <td>0</td>\n",
       "      <td>0</td>\n",
       "      <td>0</td>\n",
       "      <td>0</td>\n",
       "      <td>0</td>\n",
       "      <td>0</td>\n",
       "      <td>0</td>\n",
       "      <td>0</td>\n",
       "    </tr>\n",
       "    <tr>\n",
       "      <th>TTTGCATGAGAGGC-1</th>\n",
       "      <td>0</td>\n",
       "      <td>0</td>\n",
       "      <td>0</td>\n",
       "      <td>0</td>\n",
       "      <td>0</td>\n",
       "      <td>0</td>\n",
       "      <td>0</td>\n",
       "      <td>0</td>\n",
       "      <td>0</td>\n",
       "      <td>0</td>\n",
       "      <td>...</td>\n",
       "      <td>0</td>\n",
       "      <td>0</td>\n",
       "      <td>0</td>\n",
       "      <td>0</td>\n",
       "      <td>0</td>\n",
       "      <td>0</td>\n",
       "      <td>0</td>\n",
       "      <td>0</td>\n",
       "      <td>0</td>\n",
       "      <td>0</td>\n",
       "    </tr>\n",
       "    <tr>\n",
       "      <th>TTTGCATGCCTCAC-1</th>\n",
       "      <td>0</td>\n",
       "      <td>0</td>\n",
       "      <td>0</td>\n",
       "      <td>0</td>\n",
       "      <td>0</td>\n",
       "      <td>0</td>\n",
       "      <td>0</td>\n",
       "      <td>0</td>\n",
       "      <td>0</td>\n",
       "      <td>0</td>\n",
       "      <td>...</td>\n",
       "      <td>0</td>\n",
       "      <td>0</td>\n",
       "      <td>0</td>\n",
       "      <td>0</td>\n",
       "      <td>0</td>\n",
       "      <td>0</td>\n",
       "      <td>0</td>\n",
       "      <td>0</td>\n",
       "      <td>0</td>\n",
       "      <td>0</td>\n",
       "    </tr>\n",
       "  </tbody>\n",
       "</table>\n",
       "<p>2700 rows × 32738 columns</p>\n",
       "</div>"
      ],
      "text/plain": [
       "genes             MIR1302-10  FAM138A  OR4F5  RP11-34P13.7  RP11-34P13.8  \\\n",
       "barcodes                                                                   \n",
       "AAACATACAACCAC-1           0        0      0             0             0   \n",
       "AAACATTGAGCTAC-1           0        0      0             0             0   \n",
       "AAACATTGATCAGC-1           0        0      0             0             0   \n",
       "AAACCGTGCTTCCG-1           0        0      0             0             0   \n",
       "AAACCGTGTATGCG-1           0        0      0             0             0   \n",
       "...                      ...      ...    ...           ...           ...   \n",
       "TTTCGAACTCTCAT-1           0        0      0             0             0   \n",
       "TTTCTACTGAGGCA-1           0        0      0             0             0   \n",
       "TTTCTACTTCCTCG-1           0        0      0             0             0   \n",
       "TTTGCATGAGAGGC-1           0        0      0             0             0   \n",
       "TTTGCATGCCTCAC-1           0        0      0             0             0   \n",
       "\n",
       "genes             AL627309.1  RP11-34P13.14  RP11-34P13.9  AP006222.2  \\\n",
       "barcodes                                                                \n",
       "AAACATACAACCAC-1           0              0             0           0   \n",
       "AAACATTGAGCTAC-1           0              0             0           0   \n",
       "AAACATTGATCAGC-1           0              0             0           0   \n",
       "AAACCGTGCTTCCG-1           0              0             0           0   \n",
       "AAACCGTGTATGCG-1           0              0             0           0   \n",
       "...                      ...            ...           ...         ...   \n",
       "TTTCGAACTCTCAT-1           0              0             0           0   \n",
       "TTTCTACTGAGGCA-1           0              0             0           0   \n",
       "TTTCTACTTCCTCG-1           0              0             0           0   \n",
       "TTTGCATGAGAGGC-1           0              0             0           0   \n",
       "TTTGCATGCCTCAC-1           0              0             0           0   \n",
       "\n",
       "genes             RP4-669L17.10  ...  KIR3DL2  AL590523.1  CT476828.1  PNRC2  \\\n",
       "barcodes                         ...                                           \n",
       "AAACATACAACCAC-1              0  ...        0           0           0      0   \n",
       "AAACATTGAGCTAC-1              0  ...        0           0           0      0   \n",
       "AAACATTGATCAGC-1              0  ...        0           0           0      0   \n",
       "AAACCGTGCTTCCG-1              0  ...        0           0           0      0   \n",
       "AAACCGTGTATGCG-1              0  ...        0           0           0      0   \n",
       "...                         ...  ...      ...         ...         ...    ...   \n",
       "TTTCGAACTCTCAT-1              0  ...        0           0           0      0   \n",
       "TTTCTACTGAGGCA-1              0  ...        0           0           0      0   \n",
       "TTTCTACTTCCTCG-1              0  ...        0           0           0      0   \n",
       "TTTGCATGAGAGGC-1              0  ...        0           0           0      0   \n",
       "TTTGCATGCCTCAC-1              0  ...        0           0           0      0   \n",
       "\n",
       "genes             SRSF10  AC145205.1  BAGE5  CU459201.1  AC002321.2  \\\n",
       "barcodes                                                              \n",
       "AAACATACAACCAC-1       0           0      0           0           0   \n",
       "AAACATTGAGCTAC-1       0           0      0           0           0   \n",
       "AAACATTGATCAGC-1       0           0      0           0           0   \n",
       "AAACCGTGCTTCCG-1       0           0      0           0           0   \n",
       "AAACCGTGTATGCG-1       0           0      0           0           0   \n",
       "...                  ...         ...    ...         ...         ...   \n",
       "TTTCGAACTCTCAT-1       0           0      0           0           0   \n",
       "TTTCTACTGAGGCA-1       0           0      0           0           0   \n",
       "TTTCTACTTCCTCG-1       0           0      0           0           0   \n",
       "TTTGCATGAGAGGC-1       0           0      0           0           0   \n",
       "TTTGCATGCCTCAC-1       0           0      0           0           0   \n",
       "\n",
       "genes             AC002321.1  \n",
       "barcodes                      \n",
       "AAACATACAACCAC-1           0  \n",
       "AAACATTGAGCTAC-1           0  \n",
       "AAACATTGATCAGC-1           0  \n",
       "AAACCGTGCTTCCG-1           0  \n",
       "AAACCGTGTATGCG-1           0  \n",
       "...                      ...  \n",
       "TTTCGAACTCTCAT-1           0  \n",
       "TTTCTACTGAGGCA-1           0  \n",
       "TTTCTACTTCCTCG-1           0  \n",
       "TTTGCATGAGAGGC-1           0  \n",
       "TTTGCATGCCTCAC-1           0  \n",
       "\n",
       "[2700 rows x 32738 columns]"
      ]
     },
     "execution_count": 18,
     "metadata": {},
     "output_type": "execute_result"
    }
   ],
   "source": [
    "# Local Test - Section 1\n",
    "# Note: feel free to print out your result to debug if it cannot pass assert\n",
    "\n",
    "from scrna.io import generate_df\n",
    "\n",
    "df = generate_df(\"data/PBMC3K/matrix.mtx\", \"data/PBMC3K/genes.tsv\", \"data/PBMC3K/barcodes.tsv\")\n",
    "df"
   ]
  },
  {
   "cell_type": "markdown",
   "metadata": {},
   "source": [
    "If you write the code correctly, you will get a dataframe with 2700 rows and 32738 columns; where each row, each barcode, represents a cell; each column, represents a gene; and the value of the data represents the count number of the corresponding gene fragment in the corresponding cell."
   ]
  },
  {
   "cell_type": "code",
   "execution_count": 19,
   "metadata": {},
   "outputs": [
    {
     "name": "stdout",
     "output_type": "stream",
     "text": [
      "You pass the local test - Section 1 (15%)\n"
     ]
    }
   ],
   "source": [
    "assert df.columns.name == 'genes', 'The column name of the dataframe should be name to `genes`'\n",
    "assert df.index.name == 'barcodes', 'The index name of the dataframe should be name to `barcodes`'\n",
    "assert df.shape == (2700, 32738), 'Wrong dataframe shape'\n",
    "assert df.dtypes[0] == int, 'Please convert the data type to int'\n",
    "assert df.values.sum() == 6390631, 'Seems your data is incorrect'\n",
    "print(\"You pass the local test - Section 1 (15%)\")"
   ]
  },
  {
   "cell_type": "markdown",
   "metadata": {},
   "source": [
    "## Section 2: Preprocessing\n",
    "****\n",
    "After reading in the dataset, as the scRNA-seq data itself is subject to errors caused by various factors, we now need to perform some pre-processing (quality control) on the data to minimize the impact of these errors on the subsequent analysis steps.\n",
    "\n",
    "To get a better understanding of the data, first we calculate some statistical information about cells and genes."
   ]
  },
  {
   "cell_type": "markdown",
   "metadata": {},
   "source": [
    "### Section 2.1: n_genes_by_counts (3 points)\n",
    "\n",
    "The first section is to calculate the number of genes with at least 1 count in each cell.\n",
    "\n",
    "**Complete code at `scrna/preprocess.py/n_genes_by_counts`**, where you may see more details."
   ]
  },
  {
   "cell_type": "code",
   "execution_count": 26,
   "metadata": {},
   "outputs": [
    {
     "name": "stdout",
     "output_type": "stream",
     "text": [
      "You pass the local test - Section 2.1 (3%)\n"
     ]
    }
   ],
   "source": [
    "# Local Test - Section 2.1\n",
    "# Note: feel free to print out your result to debug if it cannot pass assert\n",
    "\n",
    "from scrna.preprocess import n_genes_by_counts\n",
    "\n",
    "qc_n_genes_by_counts = n_genes_by_counts(df)\n",
    "\n",
    "assert qc_n_genes_by_counts.shape == (2700, )\n",
    "assert qc_n_genes_by_counts[233] == 506\n",
    "print(\"You pass the local test - Section 2.1 (3%)\")"
   ]
  },
  {
   "cell_type": "code",
   "execution_count": 5,
   "metadata": {},
   "outputs": [
    {
     "data": {
      "text/plain": [
       "Text(0, 0.5, 'N cells')"
      ]
     },
     "execution_count": 5,
     "metadata": {},
     "output_type": "execute_result"
    },
    {
     "data": {
      "image/png": "[encoded data removed]",
      "text/plain": [
       "<Figure size 432x288 with 1 Axes>"
      ]
     },
     "metadata": {
      "image/png": {
       "height": 261,
       "width": 387
      },
      "needs_background": "light"
     },
     "output_type": "display_data"
    }
   ],
   "source": [
    "plt.hist(qc_n_genes_by_counts, bins=1000)\n",
    "plt.xlabel('N genes by counts')\n",
    "plt.ylabel('N cells')"
   ]
  },
  {
   "cell_type": "markdown",
   "metadata": {},
   "source": [
    "### Section 2.2: total_counts (3 points)\n",
    "\n",
    "The second section is to calculate the total number of counts in each cell.\n",
    "\n",
    "**Complete code at `scrna/preprocess.py/total_counts`**, where you may see more details."
   ]
  },
  {
   "cell_type": "code",
   "execution_count": 27,
   "metadata": {},
   "outputs": [
    {
     "name": "stdout",
     "output_type": "stream",
     "text": [
      "You pass the local test - Section 2.2 (3%)\n"
     ]
    }
   ],
   "source": [
    "# Local Test - Section 2.2\n",
    "# Note: feel free to print out your result to debug if it cannot pass assert\n",
    "\n",
    "from scrna.preprocess import total_counts\n",
    "\n",
    "qc_total_counts = total_counts(df)\n",
    "\n",
    "assert qc_total_counts.shape == (2700, )\n",
    "assert qc_total_counts[2333] == 2866\n",
    "print(\"You pass the local test - Section 2.2 (3%)\")"
   ]
  },
  {
   "cell_type": "code",
   "execution_count": 28,
   "metadata": {},
   "outputs": [
    {
     "data": {
      "text/plain": [
       "Text(0, 0.5, 'N cells')"
      ]
     },
     "execution_count": 28,
     "metadata": {},
     "output_type": "execute_result"
    },
    {
     "data": {
      "image/png": "[encoded data removed]",
      "text/plain": [
       "<Figure size 432x288 with 1 Axes>"
      ]
     },
     "metadata": {
      "image/png": {
       "height": 261,
       "width": 386
      },
      "needs_background": "light"
     },
     "output_type": "display_data"
    }
   ],
   "source": [
    "plt.hist(qc_total_counts, bins=1000)\n",
    "plt.xlabel('Total counts')\n",
    "plt.ylabel('N cells')"
   ]
  },
  {
   "cell_type": "markdown",
   "metadata": {},
   "source": [
    "### Section 2.3: highest_expr_genes (3 points)\n",
    "\n",
    "The third section is to calculate the total number of counts in each cell.\n",
    "\n",
    "**Complete code at `scrna/preprocess.py/highest_expr_genes`**, where you may see more details."
   ]
  },
  {
   "cell_type": "code",
   "execution_count": 39,
   "metadata": {
    "scrolled": true
   },
   "outputs": [
    {
     "name": "stdout",
     "output_type": "stream",
     "text": [
      "genes             MIR1302-10  FAM138A  OR4F5  RP11-34P13.7  RP11-34P13.8  \\\n",
      "barcodes                                                                   \n",
      "AAACATACAACCAC-1         0.0      0.0    0.0           0.0           0.0   \n",
      "AAACATTGAGCTAC-1         0.0      0.0    0.0           0.0           0.0   \n",
      "AAACATTGATCAGC-1         0.0      0.0    0.0           0.0           0.0   \n",
      "AAACCGTGCTTCCG-1         0.0      0.0    0.0           0.0           0.0   \n",
      "AAACCGTGTATGCG-1         0.0      0.0    0.0           0.0           0.0   \n",
      "...                      ...      ...    ...           ...           ...   \n",
      "TTTCGAACTCTCAT-1         0.0      0.0    0.0           0.0           0.0   \n",
      "TTTCTACTGAGGCA-1         0.0      0.0    0.0           0.0           0.0   \n",
      "TTTCTACTTCCTCG-1         0.0      0.0    0.0           0.0           0.0   \n",
      "TTTGCATGAGAGGC-1         0.0      0.0    0.0           0.0           0.0   \n",
      "TTTGCATGCCTCAC-1         0.0      0.0    0.0           0.0           0.0   \n",
      "\n",
      "genes             AL627309.1  RP11-34P13.14  RP11-34P13.9  AP006222.2  \\\n",
      "barcodes                                                                \n",
      "AAACATACAACCAC-1         0.0            0.0           0.0         0.0   \n",
      "AAACATTGAGCTAC-1         0.0            0.0           0.0         0.0   \n",
      "AAACATTGATCAGC-1         0.0            0.0           0.0         0.0   \n",
      "AAACCGTGCTTCCG-1         0.0            0.0           0.0         0.0   \n",
      "AAACCGTGTATGCG-1         0.0            0.0           0.0         0.0   \n",
      "...                      ...            ...           ...         ...   \n",
      "TTTCGAACTCTCAT-1         0.0            0.0           0.0         0.0   \n",
      "TTTCTACTGAGGCA-1         0.0            0.0           0.0         0.0   \n",
      "TTTCTACTTCCTCG-1         0.0            0.0           0.0         0.0   \n",
      "TTTGCATGAGAGGC-1         0.0            0.0           0.0         0.0   \n",
      "TTTGCATGCCTCAC-1         0.0            0.0           0.0         0.0   \n",
      "\n",
      "genes             RP4-669L17.10  ...  KIR3DL2  AL590523.1  CT476828.1  PNRC2  \\\n",
      "barcodes                         ...                                           \n",
      "AAACATACAACCAC-1            0.0  ...      0.0         0.0         0.0    0.0   \n",
      "AAACATTGAGCTAC-1            0.0  ...      0.0         0.0         0.0    0.0   \n",
      "AAACATTGATCAGC-1            0.0  ...      0.0         0.0         0.0    0.0   \n",
      "AAACCGTGCTTCCG-1            0.0  ...      0.0         0.0         0.0    0.0   \n",
      "AAACCGTGTATGCG-1            0.0  ...      0.0         0.0         0.0    0.0   \n",
      "...                         ...  ...      ...         ...         ...    ...   \n",
      "TTTCGAACTCTCAT-1            0.0  ...      0.0         0.0         0.0    0.0   \n",
      "TTTCTACTGAGGCA-1            0.0  ...      0.0         0.0         0.0    0.0   \n",
      "TTTCTACTTCCTCG-1            0.0  ...      0.0         0.0         0.0    0.0   \n",
      "TTTGCATGAGAGGC-1            0.0  ...      0.0         0.0         0.0    0.0   \n",
      "TTTGCATGCCTCAC-1            0.0  ...      0.0         0.0         0.0    0.0   \n",
      "\n",
      "genes             SRSF10  AC145205.1  BAGE5  CU459201.1  AC002321.2  \\\n",
      "barcodes                                                              \n",
      "AAACATACAACCAC-1     0.0         0.0    0.0         0.0         0.0   \n",
      "AAACATTGAGCTAC-1     0.0         0.0    0.0         0.0         0.0   \n",
      "AAACATTGATCAGC-1     0.0         0.0    0.0         0.0         0.0   \n",
      "AAACCGTGCTTCCG-1     0.0         0.0    0.0         0.0         0.0   \n",
      "AAACCGTGTATGCG-1     0.0         0.0    0.0         0.0         0.0   \n",
      "...                  ...         ...    ...         ...         ...   \n",
      "TTTCGAACTCTCAT-1     0.0         0.0    0.0         0.0         0.0   \n",
      "TTTCTACTGAGGCA-1     0.0         0.0    0.0         0.0         0.0   \n",
      "TTTCTACTTCCTCG-1     0.0         0.0    0.0         0.0         0.0   \n",
      "TTTGCATGAGAGGC-1     0.0         0.0    0.0         0.0         0.0   \n",
      "TTTGCATGCCTCAC-1     0.0         0.0    0.0         0.0         0.0   \n",
      "\n",
      "genes             AC002321.1  \n",
      "barcodes                      \n",
      "AAACATACAACCAC-1         0.0  \n",
      "AAACATTGAGCTAC-1         0.0  \n",
      "AAACATTGATCAGC-1         0.0  \n",
      "AAACCGTGCTTCCG-1         0.0  \n",
      "AAACCGTGTATGCG-1         0.0  \n",
      "...                      ...  \n",
      "TTTCGAACTCTCAT-1         0.0  \n",
      "TTTCTACTGAGGCA-1         0.0  \n",
      "TTTCTACTTCCTCG-1         0.0  \n",
      "TTTGCATGAGAGGC-1         0.0  \n",
      "TTTGCATGCCTCAC-1         0.0  \n",
      "\n",
      "[2700 rows x 32738 columns]\n",
      "You pass the local test - Section 2.3 (3%)\n"
     ]
    }
   ],
   "source": [
    "# Local Test - Section 2.3\n",
    "# Note: feel free to print out your result to debug if it cannot pass assert\n",
    "\n",
    "from scrna.preprocess import highest_expr_genes\n",
    "\n",
    "qc_highest_expr_genes = highest_expr_genes(df, 5)\n",
    "\n",
    "assert len(qc_highest_expr_genes) == 5\n",
    "assert qc_highest_expr_genes == ['MALAT1', 'TMSB4X', 'B2M', 'RPL10', 'RPL13']\n",
    "print(\"You pass the local test - Section 2.3 (3%)\")"
   ]
  },
  {
   "cell_type": "markdown",
   "metadata": {},
   "source": [
    "After understanding the distribution of the data, we can then filter out the bad cells and genes."
   ]
  },
  {
   "cell_type": "markdown",
   "metadata": {},
   "source": [
    "### Section 2.4: filter_cells (3 points)\n",
    "\n",
    "First, we want to filter cells.\n",
    "\n",
    "**Complete code at `scrna/preprocess.py/filter_cells`**, where you may see more details."
   ]
  },
  {
   "cell_type": "code",
   "execution_count": 9,
   "metadata": {},
   "outputs": [
    {
     "name": "stdout",
     "output_type": "stream",
     "text": [
      "You pass the local test - Section 2.4 (3%)\n"
     ]
    }
   ],
   "source": [
    "# Local Test - Section 2.4\n",
    "# Note: feel free to print out your result to debug if it cannot pass assert\n",
    "\n",
    "from scrna.preprocess import filter_cells\n",
    "\n",
    "filtered_df = filter_cells(df, min_counts=200)\n",
    "filtered_df = filter_cells(filtered_df, max_counts=5000)\n",
    "assert filtered_df.shape == (2631, 32738)\n",
    "print(\"You pass the local test - Section 2.4 (3%)\")"
   ]
  },
  {
   "cell_type": "markdown",
   "metadata": {},
   "source": [
    "### Section 2.5: filter_genes (3 points)\n",
    "\n",
    "Second, we want to filter genes.\n",
    "\n",
    "**Complete code at `scrna/preprocess.py/filter_genes`**, where you may see more details."
   ]
  },
  {
   "cell_type": "code",
   "execution_count": 10,
   "metadata": {},
   "outputs": [
    {
     "name": "stdout",
     "output_type": "stream",
     "text": [
      "You pass the local test - Section 2.5 (3%)\n"
     ]
    }
   ],
   "source": [
    "# Local Test - Section 2.5\n",
    "# Note: feel free to print out your result to debug if it cannot pass assert\n",
    "# Please note that there might be columns with the same name\n",
    "\n",
    "from scrna.preprocess import filter_genes\n",
    "\n",
    "filtered_df = filter_genes(df, min_cells=3)\n",
    "assert filtered_df.shape == (2700, 13714)\n",
    "print(\"You pass the local test - Section 2.5 (3%)\")"
   ]
  },
  {
   "cell_type": "markdown",
   "metadata": {},
   "source": [
    "## Reference\n",
    "```\n",
    "[1] Clustering 3K PBMCs with Scanpy https://training.galaxyproject.org/training-material/topics/transcriptomics/tutorials/scrna-scanpy-pbmc3k/tutorial.html\n",
    "[2] Preprocessing and clustering 3k PBMCs https://scanpy-tutorials.readthedocs.io/en/latest/pbmc3k.html\n",
    "```"
   ]
  }
 ],
 "metadata": {
  "kernelspec": {
   "display_name": "Python 3",
   "language": "python",
   "name": "python3"
  },
  "language_info": {
   "codemirror_mode": {
    "name": "ipython",
    "version": 3
   },
   "file_extension": ".py",
   "mimetype": "text/x-python",
   "name": "python",
   "nbconvert_exporter": "python",
   "pygments_lexer": "ipython3",
   "version": "3.8.3"
  }
 },
 "nbformat": 4,
 "nbformat_minor": 2
}
